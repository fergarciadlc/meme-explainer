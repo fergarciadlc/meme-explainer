{
 "cells": [
  {
   "cell_type": "code",
   "execution_count": 2,
   "metadata": {},
   "outputs": [],
   "source": [
    "from openai import OpenAI\n",
    "\n",
    "client = OpenAI()"
   ]
  },
  {
   "cell_type": "code",
   "execution_count": 3,
   "metadata": {},
   "outputs": [],
   "source": [
    "completion = client.chat.completions.create(\n",
    "    model=\"gpt-3.5-turbo\",\n",
    "    messages=[\n",
    "        {\n",
    "            \"role\": \"system\",\n",
    "            \"content\": \"You are a developer with great sense of humor.\",\n",
    "        },\n",
    "        {\n",
    "            \"role\": \"user\",\n",
    "            \"content\": \"Make a joke of the python language\",\n",
    "        },\n",
    "    ],\n",
    "    n=3,  # Requesting 3 responses\n",
    ")\n"
   ]
  },
  {
   "cell_type": "code",
   "execution_count": 12,
   "metadata": {},
   "outputs": [
    {
     "name": "stdout",
     "output_type": "stream",
     "text": [
      "Response 1:\n",
      "Why was the Python developer always calm?\n",
      "\n",
      "Because he didn't give in to the error-rattling!\n",
      "****************************************************************************************************\n",
      "Response 2:\n",
      "Why was the Python developer brought in to solve the crime scene mystery?\n",
      "\n",
      "Because they were an expert in finding the clues with their code-snake!\n",
      "****************************************************************************************************\n",
      "Response 3:\n",
      "Why did the Python programmer get cold during the winter?\n",
      "\n",
      "Because they didn't C# 😄🐍\n",
      "****************************************************************************************************\n"
     ]
    }
   ],
   "source": [
    "# Print all the generated responses\n",
    "for i, choice in enumerate(completion.choices):\n",
    "    print(f\"Response {i+1}:\\n{choice.message.content}\\n\" + \"*\"*100)"
   ]
  },
  {
   "cell_type": "code",
   "execution_count": 15,
   "metadata": {},
   "outputs": [
    {
     "name": "stdout",
     "output_type": "stream",
     "text": [
      "Ah, a classic programming language pun! Let me break it down for you. So, Python and C# are both programming languages. Python, represented by the snake emoji 🐍, is known for its simplicity and readability, making it a popular choice among developers. On the other hand, C# is another programming language developed by Microsoft, often used for building Windows applications.\n",
      "\n",
      "Now, in this joke, the Python programmer got cold during the winter because they didn't \"C#\" - which sounds like \"see sharp,\" the pronunciation of C#. Get it? Instead of putting on warm clothes or cranking up the heating, they should have \"C#,\" as in \"see sharp\" to stay warm! It's a clever play on words that combines programming languages with a common situation like feeling cold in the winter. Gotta love those nerdy programming jokes!\n"
     ]
    }
   ],
   "source": [
    "from openai import OpenAI\n",
    "\n",
    "client = OpenAI()\n",
    "\n",
    "def explain_meme(meme_content):\n",
    "    completion = client.chat.completions.create(\n",
    "        model=\"gpt-3.5-turbo\",\n",
    "        messages=[\n",
    "            {\n",
    "                \"role\": \"system\",\n",
    "                \"content\": \"You are a witty and humorous expert in meme culture, especially tech-related memes and jokes about software engineering and programming languages. Your task is to explain memes, whether they are images or text, and describe why they are funny in a casual, entertaining, and humorous manner. Use a fun and informal tone, making the explanations engaging and relatable while breaking down the jokes and memes.\",            },\n",
    "            {\n",
    "                \"role\": \"user\",\n",
    "                \"content\": meme_content,\n",
    "            },\n",
    "        ],\n",
    "        n=1,  # Requesting one detailed explanation\n",
    "    )\n",
    "\n",
    "    return completion.choices[0].message.content\n",
    "\n",
    "# Example usage\n",
    "meme_text = \"Why did the Python programmer get cold during the winter? Because they didn't C# 😄🐍\"\n",
    "explanation = explain_meme(meme_text)\n",
    "print(explanation)"
   ]
  },
  {
   "cell_type": "code",
   "execution_count": 3,
   "metadata": {},
   "outputs": [
    {
     "name": "stdout",
     "output_type": "stream",
     "text": [
      "ChatCompletionMessage(content=\"Why did the Python programmer bring a ladder to the interview?\\n\\nBecause they heard they needed to climb the Python's hierarchy!\", role='assistant', function_call=None, tool_calls=None)\n"
     ]
    }
   ],
   "source": [
    "completion = client.chat.completions.create(\n",
    "    model=\"gpt-3.5-turbo\",\n",
    "    messages=[\n",
    "        {\n",
    "            \"role\": \"system\",\n",
    "            \"content\": \"You are a developer with great sense of humor.\",\n",
    "        },\n",
    "        {\n",
    "            \"role\": \"user\",\n",
    "            \"content\": \"Make a joke of the python language\",\n",
    "        },\n",
    "    ],\n",
    ")\n",
    "\n",
    "print(completion.choices[0].message)"
   ]
  },
  {
   "cell_type": "code",
   "execution_count": 4,
   "metadata": {},
   "outputs": [
    {
     "data": {
      "text/plain": [
       "ChatCompletion(id='chatcmpl-9dVm7zzDKBtyutoB9eWSbj0V41PTQ', choices=[Choice(finish_reason='stop', index=0, logprobs=None, message=ChatCompletionMessage(content=\"Why did the Python programmer bring a ladder to the interview?\\n\\nBecause they heard they needed to climb the Python's hierarchy!\", role='assistant', function_call=None, tool_calls=None))], created=1719203963, model='gpt-3.5-turbo-0125', object='chat.completion', service_tier=None, system_fingerprint=None, usage=CompletionUsage(completion_tokens=24, prompt_tokens=28, total_tokens=52))"
      ]
     },
     "execution_count": 4,
     "metadata": {},
     "output_type": "execute_result"
    }
   ],
   "source": [
    "completion"
   ]
  },
  {
   "cell_type": "code",
   "execution_count": 5,
   "metadata": {},
   "outputs": [
    {
     "data": {
      "text/plain": [
       "openai.types.chat.chat_completion.ChatCompletion"
      ]
     },
     "execution_count": 5,
     "metadata": {},
     "output_type": "execute_result"
    }
   ],
   "source": [
    "type(completion)"
   ]
  },
  {
   "cell_type": "code",
   "execution_count": 6,
   "metadata": {},
   "outputs": [
    {
     "data": {
      "text/plain": [
       "Choice(finish_reason='stop', index=0, logprobs=None, message=ChatCompletionMessage(content=\"Why did the Python programmer bring a ladder to the interview?\\n\\nBecause they heard they needed to climb the Python's hierarchy!\", role='assistant', function_call=None, tool_calls=None))"
      ]
     },
     "execution_count": 6,
     "metadata": {},
     "output_type": "execute_result"
    }
   ],
   "source": [
    "completion.choices[0]"
   ]
  },
  {
   "cell_type": "code",
   "execution_count": 7,
   "metadata": {},
   "outputs": [
    {
     "name": "stdout",
     "output_type": "stream",
     "text": [
      "Choice(finish_reason='stop', index=0, logprobs=None, message=ChatCompletionMessage(content='This image showcases a peaceful, nature-filled scene. There is a wooden boardwalk path stretching into the distance through a lush green field of tall grass and vegetation. The sky above is mostly clear with a few scattered clouds, adding to the serene ambiance. Trees and bushes are visible in the background, providing a sense of depth and richness to the landscape.', role='assistant', function_call=None, tool_calls=None))\n"
     ]
    }
   ],
   "source": [
    "from openai import OpenAI\n",
    "\n",
    "client = OpenAI()\n",
    "\n",
    "response = client.chat.completions.create(\n",
    "  model=\"gpt-4o\",\n",
    "  messages=[\n",
    "    {\n",
    "      \"role\": \"user\",\n",
    "      \"content\": [\n",
    "        {\"type\": \"text\", \"text\": \"What’s in this image?\"},\n",
    "        {\n",
    "          \"type\": \"image_url\",\n",
    "          \"image_url\": {\n",
    "            \"url\": \"https://upload.wikimedia.org/wikipedia/commons/thumb/d/dd/Gfp-wisconsin-madison-the-nature-boardwalk.jpg/2560px-Gfp-wisconsin-madison-the-nature-boardwalk.jpg\",\n",
    "          },\n",
    "        },\n",
    "      ],\n",
    "    }\n",
    "  ],\n",
    "  max_tokens=300,\n",
    ")\n",
    "\n",
    "print(response.choices[0])"
   ]
  },
  {
   "cell_type": "code",
   "execution_count": 9,
   "metadata": {},
   "outputs": [
    {
     "data": {
      "text/plain": [
       "'This image showcases a peaceful, nature-filled scene. There is a wooden boardwalk path stretching into the distance through a lush green field of tall grass and vegetation. The sky above is mostly clear with a few scattered clouds, adding to the serene ambiance. Trees and bushes are visible in the background, providing a sense of depth and richness to the landscape.'"
      ]
     },
     "execution_count": 9,
     "metadata": {},
     "output_type": "execute_result"
    }
   ],
   "source": [
    "response.choices[0].message.content"
   ]
  },
  {
   "cell_type": "code",
   "execution_count": null,
   "metadata": {},
   "outputs": [],
   "source": []
  }
 ],
 "metadata": {
  "kernelspec": {
   "display_name": "playground",
   "language": "python",
   "name": "python3"
  },
  "language_info": {
   "codemirror_mode": {
    "name": "ipython",
    "version": 3
   },
   "file_extension": ".py",
   "mimetype": "text/x-python",
   "name": "python",
   "nbconvert_exporter": "python",
   "pygments_lexer": "ipython3",
   "version": "3.10.12"
  }
 },
 "nbformat": 4,
 "nbformat_minor": 2
}
